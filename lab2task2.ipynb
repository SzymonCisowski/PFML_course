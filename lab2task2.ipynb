{
  "nbformat": 4,
  "nbformat_minor": 0,
  "metadata": {
    "colab": {
      "provenance": [],
      "toc_visible": true,
      "authorship_tag": "ABX9TyNzPSSoxmpLXqEbUcN4aJYJ",
      "include_colab_link": true
    },
    "kernelspec": {
      "name": "python3",
      "display_name": "Python 3"
    },
    "language_info": {
      "name": "python"
    }
  },
  "cells": [
    {
      "cell_type": "markdown",
      "metadata": {
        "id": "view-in-github",
        "colab_type": "text"
      },
      "source": [
        "<a href=\"https://colab.research.google.com/github/SzymonCisowski/PFML_course/blob/while_variant/lab2task2.ipynb\" target=\"_parent\"><img src=\"https://colab.research.google.com/assets/colab-badge.svg\" alt=\"Open In Colab\"/></a>"
      ]
    },
    {
      "cell_type": "code",
      "execution_count": 6,
      "metadata": {
        "colab": {
          "base_uri": "https://localhost:8080/"
        },
        "id": "SPC-LfTtGgaN",
        "outputId": "55bc9f9a-d7be-4124-b2a1-84823bf6825e"
      },
      "outputs": [
        {
          "output_type": "stream",
          "name": "stdout",
          "text": [
            "[2, 5, 6, 7, 10, 23]\n",
            "2\n",
            "5\n",
            "6\n",
            "7\n",
            "10\n",
            "23\n"
          ]
        }
      ],
      "source": [
        "list= [2,5,6,7,10,23]\n",
        "print(list)\n"
      ]
    },
    {
      "cell_type": "code",
      "source": [
        "i=0\n",
        "while(i != len(list)):\n",
        "  print(list[i])\n",
        "  i+=1"
      ],
      "metadata": {
        "colab": {
          "base_uri": "https://localhost:8080/"
        },
        "id": "LDKMLCwBJPvV",
        "outputId": "726fb452-05f7-43ba-a1db-14b13df42daa"
      },
      "execution_count": 14,
      "outputs": [
        {
          "output_type": "stream",
          "name": "stdout",
          "text": [
            "2\n",
            "5\n",
            "6\n",
            "7\n",
            "10\n",
            "23\n"
          ]
        }
      ]
    }
  ]
}